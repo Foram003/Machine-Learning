{
  "nbformat": 4,
  "nbformat_minor": 0,
  "metadata": {
    "colab": {
      "provenance": [],
      "authorship_tag": "ABX9TyMMri8uOQA5fDAP2GAKej0f",
      "include_colab_link": true
    },
    "kernelspec": {
      "name": "python3",
      "display_name": "Python 3"
    },
    "language_info": {
      "name": "python"
    }
  },
  "cells": [
    {
      "cell_type": "markdown",
      "metadata": {
        "id": "view-in-github",
        "colab_type": "text"
      },
      "source": [
        "<a href=\"https://colab.research.google.com/github/Foram003/Machine-Learning/blob/main/ML_ADABOOST.ipynb\" target=\"_parent\"><img src=\"https://colab.research.google.com/assets/colab-badge.svg\" alt=\"Open In Colab\"/></a>"
      ]
    },
    {
      "cell_type": "code",
      "source": [
        "import pandas as pd\n",
        "df = pd.read_csv('/content/creditcard_csv.csv')"
      ],
      "metadata": {
        "id": "ewebApKpWc8p"
      },
      "execution_count": null,
      "outputs": []
    },
    {
      "cell_type": "code",
      "source": [
        "from sklearn.ensemble import AdaBoostClassifier\n",
        "from sklearn.model_selection import train_test_split\n",
        "\n",
        "X_train, X_test, y_train, y_test = train_test_split(X, y, test_size=0.3,random_state=42)\n",
        "abc = AdaBoostClassifier()\n",
        "model = abc.fit(X_train, y_train)\n",
        "y_pred = model.predict(X_test)"
      ],
      "metadata": {
        "id": "V9D17Z2lJrA-"
      },
      "execution_count": null,
      "outputs": []
    },
    {
      "cell_type": "code",
      "source": [
        "from sklearn import metrics\n",
        "print(\"Accuracy:\",metrics.accuracy_score(y_test, y_pred))"
      ],
      "metadata": {
        "colab": {
          "base_uri": "https://localhost:8080/"
        },
        "id": "4BseVTy4KoqU",
        "outputId": "c62f61df-40e0-4aab-da04-a162fcf90376"
      },
      "execution_count": null,
      "outputs": [
        {
          "output_type": "stream",
          "name": "stdout",
          "text": [
            "Accuracy: 0.82\n"
          ]
        }
      ]
    },
    {
      "cell_type": "code",
      "source": [
        "from sklearn.datasets import make_classification\n",
        "from sklearn.linear_model import LogisticRegression\n",
        "lr = LogisticRegression()\n",
        "ada = AdaBoostClassifier(estimator=lr)\n",
        "ada.fit(X, y)\n",
        "y_pred = ada.predict(X)\n",
        "print(\"Accuracy:\", ada.score(X, y))"
      ],
      "metadata": {
        "colab": {
          "base_uri": "https://localhost:8080/"
        },
        "id": "L3emTvbwLkUs",
        "outputId": "1ef160b0-2961-4c26-b87a-9d253ad141e7"
      },
      "execution_count": null,
      "outputs": [
        {
          "output_type": "stream",
          "name": "stdout",
          "text": [
            "Accuracy: 0.805\n"
          ]
        }
      ]
    },
    {
      "cell_type": "code",
      "source": [
        "from sklearn.tree import DecisionTreeClassifier\n",
        "\n",
        "clf = DecisionTreeClassifier()\n",
        "\n",
        "clf.fit(X_train,y_train)\n",
        "\n",
        "y_pred = clf.predict(X_test)\n",
        "ada = AdaBoostClassifier(estimator=clf)"
      ],
      "metadata": {
        "id": "Z5hsh7qHM4te"
      },
      "execution_count": null,
      "outputs": []
    },
    {
      "cell_type": "code",
      "source": [
        "from sklearn.metrics import accuracy_score\n",
        "\n",
        "print(f\"Accuracy = {accuracy_score(y_test,y_pred)}\")"
      ],
      "metadata": {
        "colab": {
          "base_uri": "https://localhost:8080/"
        },
        "id": "RJaIbwOgNMo_",
        "outputId": "4a139bce-4ac6-47da-a1d6-d0fd1927cee4"
      },
      "execution_count": null,
      "outputs": [
        {
          "output_type": "stream",
          "name": "stdout",
          "text": [
            "Accuracy = 0.7966666666666666\n"
          ]
        }
      ]
    },
    {
      "cell_type": "code",
      "source": [
        "from sklearn.model_selection import KFold, cross_val_score\n",
        "clf = DecisionTreeClassifier(random_state=42)\n",
        "\n",
        "k_folds = KFold(n_splits = 5)\n",
        "\n",
        "scores = cross_val_score(clf, X, y, cv = k_folds)\n",
        "\n",
        "print(\"Cross Validation Scores: \", scores)\n",
        "print(\"Average CV Score: \", scores.mean())\n",
        "print(\"Number of CV Scores used in Average: \", len(scores))"
      ],
      "metadata": {
        "colab": {
          "base_uri": "https://localhost:8080/"
        },
        "id": "juM8rn1qRfso",
        "outputId": "7aedec91-7d5d-433f-c88f-223f83db4343"
      },
      "execution_count": null,
      "outputs": [
        {
          "output_type": "stream",
          "name": "stdout",
          "text": [
            "Cross Validation Scores:  [0.83  0.805 0.755 0.83  0.745]\n",
            "Average CV Score:  0.793\n",
            "Number of CV Scores used in Average:  5\n"
          ]
        }
      ]
    },
    {
      "cell_type": "code",
      "source": [
        "lr = LogisticRegression(random_state=42)\n",
        "\n",
        "k_folds = KFold(n_splits = 5)\n",
        "\n",
        "scores = cross_val_score(lr, X, y, cv = k_folds)\n",
        "\n",
        "print(\"Cross Validation Scores: \", scores)\n",
        "print(\"Average CV Score: \", scores.mean())\n",
        "print(\"Number of CV Scores used in Average: \", len(scores))"
      ],
      "metadata": {
        "colab": {
          "base_uri": "https://localhost:8080/"
        },
        "id": "lHBokjBDR4Dv",
        "outputId": "23864280-d82a-4574-8beb-ab2611ae34c8"
      },
      "execution_count": null,
      "outputs": [
        {
          "output_type": "stream",
          "name": "stdout",
          "text": [
            "Cross Validation Scores:  [0.855 0.74  0.775 0.81  0.81 ]\n",
            "Average CV Score:  0.798\n",
            "Number of CV Scores used in Average:  5\n"
          ]
        }
      ]
    },
    {
      "cell_type": "code",
      "source": [
        "depth = [1,2,3,4,5,6,7,8,9,10,11]\n",
        "for i in depth:\n",
        "\n",
        "  clf = DecisionTreeClassifier(max_depth = i, random_state=42)\n",
        "\n",
        "  abc = AdaBoostClassifier(estimator = clf)\n",
        "\n",
        "  abc.fit(X_train, y_train)\n",
        "\n",
        "  y_pred = abc.predict(X_test)\n",
        "\n",
        "  print(f\"\\nMax Depth:{i}\")\n",
        "  print(f\"Accuracy = {accuracy_score(y_test,y_pred)}\")"
      ],
      "metadata": {
        "colab": {
          "base_uri": "https://localhost:8080/"
        },
        "id": "XswwK37-OQcN",
        "outputId": "131b150f-f2d3-43d0-a001-76d2d82db69b"
      },
      "execution_count": null,
      "outputs": [
        {
          "output_type": "stream",
          "name": "stdout",
          "text": [
            "\n",
            "Max Depth:1\n",
            "Accuracy = 0.82\n",
            "\n",
            "Max Depth:2\n",
            "Accuracy = 0.85\n",
            "\n",
            "Max Depth:3\n",
            "Accuracy = 0.9066666666666666\n",
            "\n",
            "Max Depth:4\n",
            "Accuracy = 0.9033333333333333\n",
            "\n",
            "Max Depth:5\n",
            "Accuracy = 0.9333333333333333\n",
            "\n",
            "Max Depth:6\n",
            "Accuracy = 0.9533333333333334\n",
            "\n",
            "Max Depth:7\n",
            "Accuracy = 0.9533333333333334\n",
            "\n",
            "Max Depth:8\n",
            "Accuracy = 0.9533333333333334\n",
            "\n",
            "Max Depth:9\n",
            "Accuracy = 0.93\n",
            "\n",
            "Max Depth:10\n",
            "Accuracy = 0.9333333333333333\n",
            "\n",
            "Max Depth:11\n",
            "Accuracy = 0.9433333333333334\n"
          ]
        }
      ]
    },
    {
      "cell_type": "code",
      "source": [
        "l_rate = [0.1,0.5,0.01,0.05,0.2,0.3,0.02,0.03,0.4,0.6,0.04]\n",
        "\n",
        "for i in l_rate:\n",
        "\n",
        "  clf = DecisionTreeClassifier(random_state=42)\n",
        "\n",
        "  abc = AdaBoostClassifier(estimator = clf, learning_rate = i)\n",
        "\n",
        "  abc.fit(X_train, y_train)\n",
        "\n",
        "  y_pred = abc.predict(X_test)\n",
        "\n",
        "  print(f\"\\nLearning Rate:{i}\")\n",
        "  print(f\"Accuracy = {accuracy_score(y_test,y_pred)}\")"
      ],
      "metadata": {
        "colab": {
          "base_uri": "https://localhost:8080/"
        },
        "id": "huov063HOre_",
        "outputId": "96450a41-00e3-4cd6-b2f8-63dafc363d3a"
      },
      "execution_count": null,
      "outputs": [
        {
          "output_type": "stream",
          "name": "stdout",
          "text": [
            "\n",
            "Learning Rate:0.1\n",
            "Accuracy = 0.7833333333333333\n",
            "\n",
            "Learning Rate:0.5\n",
            "Accuracy = 0.7833333333333333\n",
            "\n",
            "Learning Rate:0.01\n",
            "Accuracy = 0.7733333333333333\n",
            "\n",
            "Learning Rate:0.05\n",
            "Accuracy = 0.7733333333333333\n",
            "\n",
            "Learning Rate:0.2\n",
            "Accuracy = 0.7933333333333333\n",
            "\n",
            "Learning Rate:0.3\n",
            "Accuracy = 0.78\n",
            "\n",
            "Learning Rate:0.02\n",
            "Accuracy = 0.7733333333333333\n",
            "\n",
            "Learning Rate:0.03\n",
            "Accuracy = 0.79\n",
            "\n",
            "Learning Rate:0.4\n",
            "Accuracy = 0.7866666666666666\n",
            "\n",
            "Learning Rate:0.6\n",
            "Accuracy = 0.7766666666666666\n",
            "\n",
            "Learning Rate:0.04\n",
            "Accuracy = 0.7666666666666667\n"
          ]
        }
      ]
    },
    {
      "cell_type": "code",
      "source": [
        "import matplotlib.pyplot as plt\n",
        "\n",
        "import numpy as np\n",
        "learning_rates = [0.1,0.5,0.01,0.05,0.2,0.3,0.02,0.03,0.4,0.6,0.04]\n",
        "\n",
        "max_depths = [1,2,3,4,5,6,7,8,9,10,11]\n",
        "\n",
        "data = np.random.rand(len(max_depths), len(learning_rates))\n",
        "\n",
        "fig, ax = plt.subplots()\n",
        "\n",
        "ax.boxplot(data)\n",
        "\n",
        "ax.set_xlabel('Learning Rate')\n",
        "\n",
        "ax.set_ylabel('Max Depth')\n",
        "\n",
        "ax.set_title('Box Plot of Learning Rate and Max Depth')\n",
        "\n",
        "ax.set_xticklabels(learning_rates)\n",
        "\n",
        "ax.set_yticklabels(max_depths)\n",
        "\n",
        "plt.show()\n"
      ],
      "metadata": {
        "colab": {
          "base_uri": "https://localhost:8080/",
          "height": 507
        },
        "id": "PXDiD12pPqTI",
        "outputId": "7898d3dd-902f-4c94-e2f6-1e52864435ba"
      },
      "execution_count": null,
      "outputs": [
        {
          "output_type": "stream",
          "name": "stderr",
          "text": [
            "<ipython-input-33-c7e838216440>:22: UserWarning: FixedFormatter should only be used together with FixedLocator\n",
            "  ax.set_yticklabels(max_depths)\n"
          ]
        },
        {
          "output_type": "display_data",
          "data": {
            "text/plain": [
              "<Figure size 640x480 with 1 Axes>"
            ],
            "image/png": "[encoded data removed]"
          },
          "metadata": {}
        }
      ]
    },
    {
      "cell_type": "code",
      "source": [
        "import matplotlib.pyplot as plt\n",
        "import numpy as np\n",
        "\n",
        "learning_rates = [0.1,0.5,0.01,0.05,0.2,0.3,0.02,0.03,0.4,0.6,0.04]\n",
        "max_depths = [1,2,3,4,5,6,7,8,9,10,11]\n",
        "\n",
        "# generate random data\n",
        "data = np.random.rand(len(max_depths), len(learning_rates))\n",
        "\n",
        "# create colormap based on median values\n",
        "median_values = np.median(data, axis=0)\n",
        "colors = plt.cm.RdYlBu_r(median_values / np.max(median_values))\n",
        "\n",
        "# create figure and axes\n",
        "fig, ax = plt.subplots()\n",
        "\n",
        "# create box plot with colored boxes\n",
        "bp = ax.boxplot(data, patch_artist=True, notch=True, sym='+', vert=True, whis=1.5)\n",
        "\n",
        "# set box colors\n",
        "for patch, color in zip(bp['boxes'], colors):\n",
        "    patch.set_facecolor(color)\n",
        "\n",
        "# set median line color\n",
        "for median in bp['medians']:\n",
        "    median.set_color('black')\n",
        "\n",
        "# set x and y labels and titles\n",
        "ax.set_xlabel('Learning Rate')\n",
        "ax.set_ylabel('Max Depth')\n",
        "ax.set_title('Box Plot of Learning Rate and Max Depth')\n",
        "\n",
        "# set x and y tick labels\n",
        "ax.set_xticklabels(learning_rates)\n",
        "ax.set_yticklabels(max_depths)\n",
        "\n",
        "# add legend\n",
        "plt.legend([bp[\"boxes\"][0], bp[\"boxes\"][1]], ['Low Median', 'High Median'], loc='upper left')\n",
        "\n",
        "# show the plot\n",
        "plt.show()\n"
      ],
      "metadata": {
        "colab": {
          "base_uri": "https://localhost:8080/",
          "height": 507
        },
        "id": "Go67KgmvbnAI",
        "outputId": "d60579eb-bc87-452d-89dd-84fb3bbe89d3"
      },
      "execution_count": null,
      "outputs": [
        {
          "output_type": "stream",
          "name": "stderr",
          "text": [
            "<ipython-input-30-a77521b52dda>:35: UserWarning: FixedFormatter should only be used together with FixedLocator\n",
            "  ax.set_yticklabels(max_depths)\n"
          ]
        },
        {
          "output_type": "display_data",
          "data": {
            "text/plain": [
              "<Figure size 640x480 with 1 Axes>"
            ],
            "image/png": "[encoded data removed]"
          },
          "metadata": {}
        }
      ]
    },
    {
      "cell_type": "code",
      "source": [
        "from sklearn.tree import DecisionTreeClassifier\n",
        "from sklearn.ensemble import AdaBoostClassifier\n",
        "from sklearn.model_selection import KFold\n",
        "from sklearn.model_selection import cross_val_score\n",
        "\n",
        "\n",
        "def get_models():\n",
        "    models = []\n",
        "    for max_depth in range(1, 12):\n",
        "        dtc = DecisionTreeClassifier(max_depth=max_depth, random_state=101)\n",
        "        ada = AdaBoostClassifier(estimator=dtc, random_state=101)\n",
        "        models.append(ada)\n",
        "    return models\n",
        "\n",
        "\n",
        "def evaluate_model(model, X, y):\n",
        "    kfold = KFold(n_splits=11, shuffle=True, random_state=101)\n",
        "    scores = cross_val_score(model, X, y, cv=kfold)\n",
        "    print(f\"Accuracy: {scores.mean():.3f}\")\n",
        "\n",
        "\n",
        "models = get_models()\n",
        "for model in models:\n",
        "    evaluate_model(model, X, y)"
      ],
      "metadata": {
        "colab": {
          "base_uri": "https://localhost:8080/"
        },
        "id": "TETFXH86RBLi",
        "outputId": "5b20e6b1-d47c-4a51-8406-c2bebd64c3f3"
      },
      "execution_count": null,
      "outputs": [
        {
          "output_type": "stream",
          "name": "stdout",
          "text": [
            "Accuracy: 0.802\n",
            "Accuracy: 0.857\n",
            "Accuracy: 0.880\n",
            "Accuracy: 0.885\n",
            "Accuracy: 0.920\n",
            "Accuracy: 0.922\n",
            "Accuracy: 0.921\n",
            "Accuracy: 0.922\n",
            "Accuracy: 0.935\n",
            "Accuracy: 0.921\n",
            "Accuracy: 0.895\n"
          ]
        }
      ]
    },
    {
      "cell_type": "code",
      "source": [
        "from sklearn.tree import DecisionTreeClassifier\n",
        "\n",
        "from sklearn.ensemble import AdaBoostClassifier\n",
        "\n",
        "from sklearn.model_selection import KFold\n",
        "\n",
        "from sklearn.model_selection import cross_val_score\n",
        "def get_models():\n",
        "  models = []\n",
        "  for lr in [0.1,0.5,0.01,0.05,0.2,0.3,0.02,0.03,0.4,0.6,0.04]:\n",
        "    ada = AdaBoostClassifier(learning_rate=lr, random_state=42)\n",
        "    models.append(ada)\n",
        "  return models\n",
        "\n",
        "\n",
        "\n",
        "\n",
        "def evaluate_model(model, X, y):\n",
        "  kfold = KFold(n_splits=10, shuffle=True, random_state=101)\n",
        "  scores = cross_val_score(model, X, y, cv=kfold)\n",
        "  print(f\"Learning rate: {model.learning_rate:.2f}, Accuracy: {scores.mean():.3f}\")\n",
        "\n",
        "models = get_models()\n",
        "\n",
        "for model in models:\n",
        "  evaluate_model(model, X, y)"
      ],
      "metadata": {
        "id": "bohTPmY-Xw8v",
        "colab": {
          "base_uri": "https://localhost:8080/"
        },
        "outputId": "026fc591-b6b2-4e76-e63d-e0293c60fb7b"
      },
      "execution_count": null,
      "outputs": [
        {
          "output_type": "stream",
          "name": "stdout",
          "text": [
            "Learning rate: 0.10, Accuracy: 0.766\n",
            "Learning rate: 0.50, Accuracy: 0.796\n",
            "Learning rate: 0.01, Accuracy: 0.677\n",
            "Learning rate: 0.05, Accuracy: 0.738\n",
            "Learning rate: 0.20, Accuracy: 0.787\n",
            "Learning rate: 0.30, Accuracy: 0.797\n",
            "Learning rate: 0.02, Accuracy: 0.712\n",
            "Learning rate: 0.03, Accuracy: 0.724\n",
            "Learning rate: 0.40, Accuracy: 0.786\n",
            "Learning rate: 0.60, Accuracy: 0.789\n",
            "Learning rate: 0.04, Accuracy: 0.737\n"
          ]
        }
      ]
    },
    {
      "cell_type": "code",
      "source": [
        "from sklearn.tree import DecisionTreeClassifier\n",
        "\n",
        "from sklearn.ensemble import AdaBoostClassifier\n",
        "\n",
        "from sklearn.model_selection import GridSearchCV\n",
        "param_grid = {\n",
        "\n",
        "'n_estimators': [10, 50, 100, 500],\n",
        "\n",
        "'learning_rate': [0.0001, 0.001, 0.01, 0.1, 1.0]\n",
        "\n",
        "}\n",
        "ada = AdaBoostClassifier(random_state=42)\n",
        "\n",
        "grid_search = GridSearchCV(estimator=ada, param_grid=param_grid, cv=5, n_jobs=-1)\n",
        "\n",
        "grid_search.fit(X_train, y_train)\n",
        "print(\"Best parameters:\", grid_search.best_params_)\n",
        "\n",
        "print(\"Best score:\", grid_search.best_score_)"
      ],
      "metadata": {
        "colab": {
          "base_uri": "https://localhost:8080/"
        },
        "id": "O5VPK6w9cej1",
        "outputId": "993489f3-3eef-4c33-e203-32c82a421105"
      },
      "execution_count": null,
      "outputs": [
        {
          "output_type": "stream",
          "name": "stdout",
          "text": [
            "Best parameters: {'learning_rate': 1.0, 'n_estimators': 500}\n",
            "Best score: 0.8099999999999999\n"
          ]
        }
      ]
    },
    {
      "cell_type": "code",
      "source": [
        "import numpy as np\n",
        "\n",
        "\n",
        "cv_results = grid_search.cv_results_\n",
        "\n",
        "\n",
        "scores = cv_results['mean_test_score']\n",
        "\n",
        "\n",
        "mean_score = np.mean(scores)\n",
        "std_score = np.std(scores)\n",
        "\n",
        "\n",
        "print(\"Mean score:\", mean_score)\n",
        "print(\"Standard deviation of score:\", std_score)"
      ],
      "metadata": {
        "colab": {
          "base_uri": "https://localhost:8080/"
        },
        "id": "2LPltuJKdiAO",
        "outputId": "897a3bb0-8226-4b5b-af11-86fccecd11b5"
      },
      "execution_count": null,
      "outputs": [
        {
          "output_type": "stream",
          "name": "stdout",
          "text": [
            "Mean score: 0.7078571428571429\n",
            "Standard deviation of score: 0.0597366670291799\n"
          ]
        }
      ]
    }
  ]
}